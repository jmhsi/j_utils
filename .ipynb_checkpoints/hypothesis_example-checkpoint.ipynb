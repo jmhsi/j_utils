{
 "cells": [
  {
   "cell_type": "code",
   "execution_count": 1,
   "metadata": {
    "ExecuteTime": {
     "end_time": "2018-11-10T09:10:15.901240Z",
     "start_time": "2018-11-10T09:10:15.885520Z"
    }
   },
   "outputs": [],
   "source": [
    "%autoreload 2"
   ]
  },
  {
   "cell_type": "code",
   "execution_count": 2,
   "metadata": {
    "ExecuteTime": {
     "end_time": "2018-11-10T09:10:16.912908Z",
     "start_time": "2018-11-10T09:10:16.171931Z"
    }
   },
   "outputs": [],
   "source": [
    "from hypothesis import given, example\n",
    "import hypothesis.strategies as st\n",
    "from hypothesis.extra.pandas import column, columns, data_frames\n",
    "import hypothesis.extra.numpy as hnp\n",
    "# from hypothesis import given, example\n",
    "# import hypothesis.strategies as st\n",
    "# import hypothesis.extra as ex\n",
    "\n",
    "import eval_results\n",
    "import feature_pruning\n",
    "import models\n",
    "import munging"
   ]
  },
  {
   "cell_type": "code",
   "execution_count": 64,
   "metadata": {
    "ExecuteTime": {
     "end_time": "2018-11-11T00:03:35.713499Z",
     "start_time": "2018-11-11T00:03:35.687858Z"
    }
   },
   "outputs": [
    {
     "ename": "TypeError",
     "evalue": "data type \"string\" not understood",
     "output_type": "error",
     "traceback": [
      "\u001b[0;31m---------------------------------------------------------------------------\u001b[0m",
      "\u001b[0;31mTypeError\u001b[0m                                 Traceback (most recent call last)",
      "\u001b[0;32m<ipython-input-64-5c7d5b14e3b2>\u001b[0m in \u001b[0;36m<module>\u001b[0;34m()\u001b[0m\n\u001b[0;32m----> 1\u001b[0;31m \u001b[0mnp\u001b[0m\u001b[0;34m.\u001b[0m\u001b[0mdtype\u001b[0m\u001b[0;34m(\u001b[0m\u001b[0;34m'string'\u001b[0m\u001b[0;34m)\u001b[0m\u001b[0;34m\u001b[0m\u001b[0m\n\u001b[0m",
      "\u001b[0;31mTypeError\u001b[0m: data type \"string\" not understood"
     ]
    }
   ],
   "source": [
    "np.dtype('string')"
   ]
  },
  {
   "cell_type": "code",
   "execution_count": null,
   "metadata": {},
   "outputs": [],
   "source": [
    "pd.api.types."
   ]
  },
  {
   "cell_type": "code",
   "execution_count": 4,
   "metadata": {
    "ExecuteTime": {
     "end_time": "2018-11-10T09:10:42.872656Z",
     "start_time": "2018-11-10T09:10:42.845580Z"
    }
   },
   "outputs": [],
   "source": [
    "columns??"
   ]
  },
  {
   "cell_type": "code",
   "execution_count": 62,
   "metadata": {
    "ExecuteTime": {
     "end_time": "2018-11-11T00:02:00.241423Z",
     "start_time": "2018-11-11T00:01:59.541727Z"
    },
    "scrolled": true
   },
   "outputs": [
    {
     "name": "stderr",
     "output_type": "stream",
     "text": [
      "/home/justin/anaconda3/lib/python3.6/site-packages/hypothesis/extra/numpy.py:171: HypothesisDeprecationWarning: Generated array element '\\x0e\\U0002fb00\\x0b岰\\x01' from text().filter(lambda b: <unknown>).map(str_) cannot be represented as dtype dtype('<U') - instead it becomes '\\x0e' .  Consider using a more precise strategy, as this will be an error in a future version.\n",
      "  'version.' % (val, strategy, self.dtype, result[idx])\n"
     ]
    }
   ],
   "source": [
    "df = data_frames([column('ints', dtype=int), column('floats', dtype=float), column('strings', dtype=np.dtype(str))]).example()"
   ]
  },
  {
   "cell_type": "code",
   "execution_count": 53,
   "metadata": {
    "ExecuteTime": {
     "end_time": "2018-11-10T23:57:30.073078Z",
     "start_time": "2018-11-10T23:57:30.050246Z"
    }
   },
   "outputs": [
    {
     "data": {
      "text/plain": [
       "array([dtype('int64'), dtype('float64')], dtype=object)"
      ]
     },
     "execution_count": 53,
     "metadata": {},
     "output_type": "execute_result"
    }
   ],
   "source": [
    "df.dtypes.unique()"
   ]
  },
  {
   "cell_type": "code",
   "execution_count": 51,
   "metadata": {
    "ExecuteTime": {
     "end_time": "2018-11-10T23:55:03.073768Z",
     "start_time": "2018-11-10T23:55:03.048018Z"
    }
   },
   "outputs": [
    {
     "data": {
      "text/plain": [
       "True"
      ]
     },
     "execution_count": 51,
     "metadata": {},
     "output_type": "execute_result"
    }
   ],
   "source": [
    "len(df.columns) == len(df.select_dtypes([np.number]).columns)"
   ]
  },
  {
   "cell_type": "code",
   "execution_count": 44,
   "metadata": {
    "ExecuteTime": {
     "end_time": "2018-11-10T19:12:21.633882Z",
     "start_time": "2018-11-10T19:12:21.606780Z"
    }
   },
   "outputs": [
    {
     "data": {
      "text/html": [
       "<div>\n",
       "<style scoped>\n",
       "    .dataframe tbody tr th:only-of-type {\n",
       "        vertical-align: middle;\n",
       "    }\n",
       "\n",
       "    .dataframe tbody tr th {\n",
       "        vertical-align: top;\n",
       "    }\n",
       "\n",
       "    .dataframe thead th {\n",
       "        text-align: right;\n",
       "    }\n",
       "</style>\n",
       "<table border=\"1\" class=\"dataframe\">\n",
       "  <thead>\n",
       "    <tr style=\"text-align: right;\">\n",
       "      <th></th>\n",
       "      <th>ints</th>\n",
       "      <th>floats</th>\n",
       "    </tr>\n",
       "  </thead>\n",
       "  <tbody>\n",
       "  </tbody>\n",
       "</table>\n",
       "</div>"
      ],
      "text/plain": [
       "Empty DataFrame\n",
       "Columns: [ints, floats]\n",
       "Index: []"
      ]
     },
     "execution_count": 44,
     "metadata": {},
     "output_type": "execute_result"
    }
   ],
   "source": [
    "pd.DataFrame([], columns=['ints', 'floats'])"
   ]
  },
  {
   "cell_type": "code",
   "execution_count": 45,
   "metadata": {
    "ExecuteTime": {
     "end_time": "2018-11-10T20:02:58.496549Z",
     "start_time": "2018-11-10T20:02:58.475110Z"
    }
   },
   "outputs": [
    {
     "data": {
      "text/plain": [
       "False"
      ]
     },
     "execution_count": 45,
     "metadata": {},
     "output_type": "execute_result"
    }
   ],
   "source": [
    "[] == None"
   ]
  },
  {
   "cell_type": "code",
   "execution_count": 46,
   "metadata": {
    "ExecuteTime": {
     "end_time": "2018-11-10T23:52:26.066524Z",
     "start_time": "2018-11-10T23:52:26.043511Z"
    }
   },
   "outputs": [
    {
     "data": {
      "text/plain": [
       "<module 'pandas.api.types' from '/home/justin/anaconda3/lib/python3.6/site-packages/pandas/api/types/__init__.py'>"
      ]
     },
     "execution_count": 46,
     "metadata": {},
     "output_type": "execute_result"
    }
   ],
   "source": [
    "pd.api.types."
   ]
  },
  {
   "cell_type": "code",
   "execution_count": 39,
   "metadata": {
    "ExecuteTime": {
     "end_time": "2018-11-10T19:11:30.849497Z",
     "start_time": "2018-11-10T19:11:30.817496Z"
    }
   },
   "outputs": [
    {
     "ename": "ValueError",
     "evalue": "The truth value of a DataFrame is ambiguous. Use a.empty, a.bool(), a.item(), a.any() or a.all().",
     "output_type": "error",
     "traceback": [
      "\u001b[0;31m---------------------------------------------------------------------------\u001b[0m",
      "\u001b[0;31mValueError\u001b[0m                                Traceback (most recent call last)",
      "\u001b[0;32m<ipython-input-39-0374b6d15918>\u001b[0m in \u001b[0;36m<module>\u001b[0;34m()\u001b[0m\n\u001b[0;32m----> 1\u001b[0;31m \u001b[0mbool\u001b[0m\u001b[0;34m(\u001b[0m\u001b[0mpd\u001b[0m\u001b[0;34m.\u001b[0m\u001b[0mDataFrame\u001b[0m\u001b[0;34m(\u001b[0m\u001b[0;34m[\u001b[0m\u001b[0;34m]\u001b[0m\u001b[0;34m)\u001b[0m\u001b[0;34m)\u001b[0m\u001b[0;34m\u001b[0m\u001b[0m\n\u001b[0m",
      "\u001b[0;32m~/anaconda3/lib/python3.6/site-packages/pandas/core/generic.py\u001b[0m in \u001b[0;36m__nonzero__\u001b[0;34m(self)\u001b[0m\n\u001b[1;32m   1574\u001b[0m         raise ValueError(\"The truth value of a {0} is ambiguous. \"\n\u001b[1;32m   1575\u001b[0m                          \u001b[0;34m\"Use a.empty, a.bool(), a.item(), a.any() or a.all().\"\u001b[0m\u001b[0;34m\u001b[0m\u001b[0m\n\u001b[0;32m-> 1576\u001b[0;31m                          .format(self.__class__.__name__))\n\u001b[0m\u001b[1;32m   1577\u001b[0m \u001b[0;34m\u001b[0m\u001b[0m\n\u001b[1;32m   1578\u001b[0m     \u001b[0m__bool__\u001b[0m \u001b[0;34m=\u001b[0m \u001b[0m__nonzero__\u001b[0m\u001b[0;34m\u001b[0m\u001b[0m\n",
      "\u001b[0;31mValueError\u001b[0m: The truth value of a DataFrame is ambiguous. Use a.empty, a.bool(), a.item(), a.any() or a.all()."
     ]
    }
   ],
   "source": [
    "bool(pd.DataFrame([]))"
   ]
  },
  {
   "cell_type": "code",
   "execution_count": 30,
   "metadata": {
    "ExecuteTime": {
     "end_time": "2018-11-10T18:56:30.537627Z",
     "start_time": "2018-11-10T18:56:30.510041Z"
    },
    "scrolled": true
   },
   "outputs": [],
   "source": [
    "@given(df=data_frames([column('ints', dtype=int), column('floats', dtype=float)]))\n",
    "def test_remove_zerovar_cols(df, ret_cols=True):\n",
    "    one_val = [col for col in df.columns if df[col].nunique() == 1]\n",
    "    two_val = [col for col in df.columns if df[col].nunique() == 2]\n",
    "    zerovar_cols, consider_drop_cols = mg.remove_zerovar_cols(df, ret_cols)\n",
    "    assert all([col in one_val for col in zerovar_cols])\n",
    "    assert all([col in two_val for col in consider_drop_cols])"
   ]
  },
  {
   "cell_type": "code",
   "execution_count": 15,
   "metadata": {
    "ExecuteTime": {
     "end_time": "2018-11-10T09:20:15.989524Z",
     "start_time": "2018-11-10T09:20:15.954524Z"
    },
    "scrolled": true
   },
   "outputs": [
    {
     "ename": "InvalidArgument",
     "evalue": "Cannot convert dtype=one_of(integers(), floats()) of type OneOfStrategy to type dtype",
     "output_type": "error",
     "traceback": [
      "\u001b[0;31m---------------------------------------------------------------------------\u001b[0m",
      "\u001b[0;31mTypeError\u001b[0m                                 Traceback (most recent call last)",
      "\u001b[0;32m~/anaconda3/lib/python3.6/site-packages/hypothesis/internal/validation.py\u001b[0m in \u001b[0;36mtry_convert\u001b[0;34m(typ, value, name)\u001b[0m\n\u001b[1;32m     86\u001b[0m     \u001b[0;32mtry\u001b[0m\u001b[0;34m:\u001b[0m\u001b[0;34m\u001b[0m\u001b[0m\n\u001b[0;32m---> 87\u001b[0;31m         \u001b[0;32mreturn\u001b[0m \u001b[0mtyp\u001b[0m\u001b[0;34m(\u001b[0m\u001b[0mvalue\u001b[0m\u001b[0;34m)\u001b[0m\u001b[0;34m\u001b[0m\u001b[0m\n\u001b[0m\u001b[1;32m     88\u001b[0m     \u001b[0;32mexcept\u001b[0m \u001b[0mTypeError\u001b[0m\u001b[0;34m:\u001b[0m\u001b[0;34m\u001b[0m\u001b[0m\n",
      "\u001b[0;31mTypeError\u001b[0m: data type not understood",
      "\nDuring handling of the above exception, another exception occurred:\n",
      "\u001b[0;31mInvalidArgument\u001b[0m                           Traceback (most recent call last)",
      "\u001b[0;32m<ipython-input-15-ab4b9d3a2768>\u001b[0m in \u001b[0;36m<module>\u001b[0;34m()\u001b[0m\n\u001b[0;32m----> 1\u001b[0;31m \u001b[0mdata_frames\u001b[0m\u001b[0;34m(\u001b[0m\u001b[0mcolumns\u001b[0m\u001b[0;34m=\u001b[0m\u001b[0mcolumns\u001b[0m\u001b[0;34m(\u001b[0m\u001b[0;34m[\u001b[0m\u001b[0;34m'A'\u001b[0m\u001b[0;34m,\u001b[0m \u001b[0;36m1\u001b[0m\u001b[0;34m,\u001b[0m \u001b[0;36m2\u001b[0m\u001b[0;34m,\u001b[0m \u001b[0;34m'B'\u001b[0m\u001b[0;34m]\u001b[0m\u001b[0;34m,\u001b[0m \u001b[0mdtype\u001b[0m\u001b[0;34m=\u001b[0m\u001b[0mst\u001b[0m\u001b[0;34m.\u001b[0m\u001b[0mone_of\u001b[0m\u001b[0;34m(\u001b[0m\u001b[0;34m[\u001b[0m\u001b[0mst\u001b[0m\u001b[0;34m.\u001b[0m\u001b[0mintegers\u001b[0m\u001b[0;34m(\u001b[0m\u001b[0;34m)\u001b[0m\u001b[0;34m,\u001b[0m \u001b[0mst\u001b[0m\u001b[0;34m.\u001b[0m\u001b[0mfloats\u001b[0m\u001b[0;34m(\u001b[0m\u001b[0;34m)\u001b[0m\u001b[0;34m]\u001b[0m\u001b[0;34m)\u001b[0m\u001b[0;34m)\u001b[0m\u001b[0;34m)\u001b[0m\u001b[0;34m.\u001b[0m\u001b[0mexample\u001b[0m\u001b[0;34m(\u001b[0m\u001b[0;34m)\u001b[0m\u001b[0;34m\u001b[0m\u001b[0m\n\u001b[0m",
      "\u001b[0;32m~/anaconda3/lib/python3.6/site-packages/hypothesis/searchstrategy/strategies.py\u001b[0m in \u001b[0;36mexample\u001b[0;34m(self, random)\u001b[0m\n\u001b[1;32m    302\u001b[0m                     \u001b[0mdatabase\u001b[0m\u001b[0;34m=\u001b[0m\u001b[0;32mNone\u001b[0m\u001b[0;34m,\u001b[0m\u001b[0;34m\u001b[0m\u001b[0m\n\u001b[1;32m    303\u001b[0m                     \u001b[0mverbosity\u001b[0m\u001b[0;34m=\u001b[0m\u001b[0mVerbosity\u001b[0m\u001b[0;34m.\u001b[0m\u001b[0mquiet\u001b[0m\u001b[0;34m,\u001b[0m\u001b[0;34m\u001b[0m\u001b[0m\n\u001b[0;32m--> 304\u001b[0;31m                     \u001b[0mphases\u001b[0m\u001b[0;34m=\u001b[0m\u001b[0mtuple\u001b[0m\u001b[0;34m(\u001b[0m\u001b[0mset\u001b[0m\u001b[0;34m(\u001b[0m\u001b[0mPhase\u001b[0m\u001b[0;34m)\u001b[0m \u001b[0;34m-\u001b[0m \u001b[0;34m{\u001b[0m\u001b[0mPhase\u001b[0m\u001b[0;34m.\u001b[0m\u001b[0mshrink\u001b[0m\u001b[0;34m}\u001b[0m\u001b[0;34m)\u001b[0m\u001b[0;34m,\u001b[0m\u001b[0;34m\u001b[0m\u001b[0m\n\u001b[0m\u001b[1;32m    305\u001b[0m                 )\n\u001b[1;32m    306\u001b[0m             )\n",
      "\u001b[0;32m~/anaconda3/lib/python3.6/site-packages/hypothesis/core.py\u001b[0m in \u001b[0;36mfind\u001b[0;34m(specifier, condition, settings, random, database_key)\u001b[0m\n\u001b[1;32m   1003\u001b[0m                 \u001b[0mspecifier\u001b[0m\u001b[0;34m,\u001b[0m \u001b[0mtype\u001b[0m\u001b[0;34m(\u001b[0m\u001b[0mspecifier\u001b[0m\u001b[0;34m)\u001b[0m\u001b[0;34m.\u001b[0m\u001b[0m__name__\u001b[0m\u001b[0;34m\u001b[0m\u001b[0m\n\u001b[1;32m   1004\u001b[0m             ))\n\u001b[0;32m-> 1005\u001b[0;31m     \u001b[0mspecifier\u001b[0m\u001b[0;34m.\u001b[0m\u001b[0mvalidate\u001b[0m\u001b[0;34m(\u001b[0m\u001b[0;34m)\u001b[0m\u001b[0;34m\u001b[0m\u001b[0m\n\u001b[0m\u001b[1;32m   1006\u001b[0m \u001b[0;34m\u001b[0m\u001b[0m\n\u001b[1;32m   1007\u001b[0m     \u001b[0msearch\u001b[0m \u001b[0;34m=\u001b[0m \u001b[0mspecifier\u001b[0m\u001b[0;34m\u001b[0m\u001b[0m\n",
      "\u001b[0;32m~/anaconda3/lib/python3.6/site-packages/hypothesis/searchstrategy/strategies.py\u001b[0m in \u001b[0;36mvalidate\u001b[0;34m(self)\u001b[0m\n\u001b[1;32m    377\u001b[0m         \u001b[0;32mtry\u001b[0m\u001b[0;34m:\u001b[0m\u001b[0;34m\u001b[0m\u001b[0m\n\u001b[1;32m    378\u001b[0m             \u001b[0mself\u001b[0m\u001b[0;34m.\u001b[0m\u001b[0mvalidate_called\u001b[0m \u001b[0;34m=\u001b[0m \u001b[0;32mTrue\u001b[0m\u001b[0;34m\u001b[0m\u001b[0m\n\u001b[0;32m--> 379\u001b[0;31m             \u001b[0mself\u001b[0m\u001b[0;34m.\u001b[0m\u001b[0mdo_validate\u001b[0m\u001b[0;34m(\u001b[0m\u001b[0;34m)\u001b[0m\u001b[0;34m\u001b[0m\u001b[0m\n\u001b[0m\u001b[1;32m    380\u001b[0m             \u001b[0mself\u001b[0m\u001b[0;34m.\u001b[0m\u001b[0mis_empty\u001b[0m\u001b[0;34m\u001b[0m\u001b[0m\n\u001b[1;32m    381\u001b[0m             \u001b[0mself\u001b[0m\u001b[0;34m.\u001b[0m\u001b[0mhas_reusable_values\u001b[0m\u001b[0;34m\u001b[0m\u001b[0m\n",
      "\u001b[0;32m~/anaconda3/lib/python3.6/site-packages/hypothesis/searchstrategy/lazy.py\u001b[0m in \u001b[0;36mdo_validate\u001b[0;34m(self)\u001b[0m\n\u001b[1;32m    125\u001b[0m \u001b[0;34m\u001b[0m\u001b[0m\n\u001b[1;32m    126\u001b[0m     \u001b[0;32mdef\u001b[0m \u001b[0mdo_validate\u001b[0m\u001b[0;34m(\u001b[0m\u001b[0mself\u001b[0m\u001b[0;34m)\u001b[0m\u001b[0;34m:\u001b[0m\u001b[0;34m\u001b[0m\u001b[0m\n\u001b[0;32m--> 127\u001b[0;31m         \u001b[0mw\u001b[0m \u001b[0;34m=\u001b[0m \u001b[0mself\u001b[0m\u001b[0;34m.\u001b[0m\u001b[0mwrapped_strategy\u001b[0m\u001b[0;34m\u001b[0m\u001b[0m\n\u001b[0m\u001b[1;32m    128\u001b[0m         \u001b[0;32massert\u001b[0m \u001b[0misinstance\u001b[0m\u001b[0;34m(\u001b[0m\u001b[0mw\u001b[0m\u001b[0;34m,\u001b[0m \u001b[0mSearchStrategy\u001b[0m\u001b[0;34m)\u001b[0m\u001b[0;34m,\u001b[0m\u001b[0;31m \u001b[0m\u001b[0;31m\\\u001b[0m\u001b[0;34m\u001b[0m\u001b[0m\n\u001b[1;32m    129\u001b[0m             \u001b[0;34m'%r returned non-strategy %r'\u001b[0m \u001b[0;34m%\u001b[0m \u001b[0;34m(\u001b[0m\u001b[0mself\u001b[0m\u001b[0;34m,\u001b[0m \u001b[0mw\u001b[0m\u001b[0;34m)\u001b[0m\u001b[0;34m\u001b[0m\u001b[0m\n",
      "\u001b[0;32m~/anaconda3/lib/python3.6/site-packages/hypothesis/searchstrategy/lazy.py\u001b[0m in \u001b[0;36mwrapped_strategy\u001b[0;34m(self)\u001b[0m\n\u001b[1;32m    111\u001b[0m \u001b[0;34m\u001b[0m\u001b[0m\n\u001b[1;32m    112\u001b[0m             base = self.__function(\n\u001b[0;32m--> 113\u001b[0;31m                 \u001b[0;34m*\u001b[0m\u001b[0mself\u001b[0m\u001b[0;34m.\u001b[0m\u001b[0m__args\u001b[0m\u001b[0;34m,\u001b[0m \u001b[0;34m**\u001b[0m\u001b[0mself\u001b[0m\u001b[0;34m.\u001b[0m\u001b[0m__kwargs\u001b[0m\u001b[0;34m\u001b[0m\u001b[0m\n\u001b[0m\u001b[1;32m    114\u001b[0m             )\n\u001b[1;32m    115\u001b[0m             if (\n",
      "\u001b[0;32m~/anaconda3/lib/python3.6/site-packages/hypothesis/extra/pandas/impl.py\u001b[0m in \u001b[0;36mdata_frames\u001b[0;34m(columns, rows, index)\u001b[0m\n\u001b[1;32m    518\u001b[0m \u001b[0;34m\u001b[0m\u001b[0m\n\u001b[1;32m    519\u001b[0m         c.elements, c.dtype = elements_and_dtype(\n\u001b[0;32m--> 520\u001b[0;31m             \u001b[0mc\u001b[0m\u001b[0;34m.\u001b[0m\u001b[0melements\u001b[0m\u001b[0;34m,\u001b[0m \u001b[0mc\u001b[0m\u001b[0;34m.\u001b[0m\u001b[0mdtype\u001b[0m\u001b[0;34m,\u001b[0m \u001b[0mlabel\u001b[0m\u001b[0;34m\u001b[0m\u001b[0m\n\u001b[0m\u001b[1;32m    521\u001b[0m         )\n\u001b[1;32m    522\u001b[0m \u001b[0;34m\u001b[0m\u001b[0m\n",
      "\u001b[0;32m~/anaconda3/lib/python3.6/site-packages/hypothesis/extra/pandas/impl.py\u001b[0m in \u001b[0;36melements_and_dtype\u001b[0;34m(elements, dtype, source)\u001b[0m\n\u001b[1;32m     86\u001b[0m                 ))\n\u001b[1;32m     87\u001b[0m \u001b[0;34m\u001b[0m\u001b[0m\n\u001b[0;32m---> 88\u001b[0;31m     \u001b[0mdtype\u001b[0m \u001b[0;34m=\u001b[0m \u001b[0mtry_convert\u001b[0m\u001b[0;34m(\u001b[0m\u001b[0mnp\u001b[0m\u001b[0;34m.\u001b[0m\u001b[0mdtype\u001b[0m\u001b[0;34m,\u001b[0m \u001b[0mdtype\u001b[0m\u001b[0;34m,\u001b[0m \u001b[0;34m'dtype'\u001b[0m\u001b[0;34m)\u001b[0m\u001b[0;34m\u001b[0m\u001b[0m\n\u001b[0m\u001b[1;32m     89\u001b[0m \u001b[0;34m\u001b[0m\u001b[0m\n\u001b[1;32m     90\u001b[0m     \u001b[0;32mif\u001b[0m \u001b[0melements\u001b[0m \u001b[0;32mis\u001b[0m \u001b[0;32mNone\u001b[0m\u001b[0;34m:\u001b[0m\u001b[0;34m\u001b[0m\u001b[0m\n",
      "\u001b[0;32m~/anaconda3/lib/python3.6/site-packages/hypothesis/internal/validation.py\u001b[0m in \u001b[0;36mtry_convert\u001b[0;34m(typ, value, name)\u001b[0m\n\u001b[1;32m     89\u001b[0m         raise InvalidArgument(\n\u001b[1;32m     90\u001b[0m             'Cannot convert %s=%r of type %s to type %s' % (\n\u001b[0;32m---> 91\u001b[0;31m                 \u001b[0mname\u001b[0m\u001b[0;34m,\u001b[0m \u001b[0mvalue\u001b[0m\u001b[0;34m,\u001b[0m \u001b[0mtype\u001b[0m\u001b[0;34m(\u001b[0m\u001b[0mvalue\u001b[0m\u001b[0;34m)\u001b[0m\u001b[0;34m.\u001b[0m\u001b[0m__name__\u001b[0m\u001b[0;34m,\u001b[0m \u001b[0mtyp\u001b[0m\u001b[0;34m.\u001b[0m\u001b[0m__name__\u001b[0m\u001b[0;34m\u001b[0m\u001b[0m\n\u001b[0m\u001b[1;32m     92\u001b[0m             )\n\u001b[1;32m     93\u001b[0m         )\n",
      "\u001b[0;31mInvalidArgument\u001b[0m: Cannot convert dtype=one_of(integers(), floats()) of type OneOfStrategy to type dtype"
     ]
    }
   ],
   "source": [
    "data_frames(columns=columns(['A', 1, 2, 'B'], dtype=st.one_of([st.integers(), st.floats()]))).example()"
   ]
  },
  {
   "cell_type": "code",
   "execution_count": 7,
   "metadata": {
    "ExecuteTime": {
     "end_time": "2018-11-09T22:47:01.829697Z",
     "start_time": "2018-11-09T22:47:01.798809Z"
    }
   },
   "outputs": [
    {
     "ename": "AttributeError",
     "evalue": "module 'hypothesis.extra' has no attribute 'pandas'",
     "output_type": "error",
     "traceback": [
      "\u001b[0;31m---------------------------------------------------------------------------\u001b[0m",
      "\u001b[0;31mAttributeError\u001b[0m                            Traceback (most recent call last)",
      "\u001b[0;32m<ipython-input-7-b6575c9bf610>\u001b[0m in \u001b[0;36m<module>\u001b[0;34m()\u001b[0m\n\u001b[0;32m----> 1\u001b[0;31m \u001b[0mhypothesis\u001b[0m\u001b[0;34m.\u001b[0m\u001b[0mextra\u001b[0m\u001b[0;34m.\u001b[0m\u001b[0mpandas\u001b[0m\u001b[0;34m.\u001b[0m\u001b[0mseries\u001b[0m\u001b[0;34m(\u001b[0m\u001b[0mdtype\u001b[0m\u001b[0;34m=\u001b[0m\u001b[0mint\u001b[0m\u001b[0;34m)\u001b[0m\u001b[0;34m.\u001b[0m\u001b[0mexample\u001b[0m\u001b[0;34m(\u001b[0m\u001b[0;34m)\u001b[0m\u001b[0;34m\u001b[0m\u001b[0m\n\u001b[0m",
      "\u001b[0;31mAttributeError\u001b[0m: module 'hypothesis.extra' has no attribute 'pandas'"
     ]
    }
   ],
   "source": [
    "hypothesis.extra.pandas.series(dtype=int).example()"
   ]
  },
  {
   "cell_type": "code",
   "execution_count": 6,
   "metadata": {
    "ExecuteTime": {
     "end_time": "2018-11-09T22:42:01.168712Z",
     "start_time": "2018-11-09T22:42:01.141759Z"
    }
   },
   "outputs": [
    {
     "name": "stdout",
     "output_type": "stream",
     "text": [
      "Help on package hypothesis:\n",
      "\n",
      "NAME\n",
      "    hypothesis\n",
      "\n",
      "DESCRIPTION\n",
      "    Hypothesis is a library for writing unit tests which are parametrized by\n",
      "    some source of data.\n",
      "    \n",
      "    It verifies your code against a wide range of input and minimizes any\n",
      "    failing examples it finds.\n",
      "\n",
      "PACKAGE CONTENTS\n",
      "    _settings\n",
      "    configuration\n",
      "    control\n",
      "    core\n",
      "    database\n",
      "    errors\n",
      "    executors\n",
      "    extra (package)\n",
      "    internal (package)\n",
      "    provisional\n",
      "    reporting\n",
      "    searchstrategy (package)\n",
      "    stateful\n",
      "    statistics\n",
      "    strategies\n",
      "    types\n",
      "    utils (package)\n",
      "    vendor (package)\n",
      "    version\n",
      "\n",
      "CLASSES\n",
      "    enum.Enum(builtins.object)\n",
      "        hypothesis._settings.HealthCheck\n",
      "        hypothesis._settings.PrintSettings\n",
      "    enum.IntEnum(builtins.int, enum.Enum)\n",
      "        hypothesis._settings.Phase\n",
      "        hypothesis._settings.Verbosity\n",
      "    hypothesis._settings.settings(builtins.object)\n",
      "        hypothesis._settings.settings\n",
      "    \n",
      "    class HealthCheck(enum.Enum)\n",
      "     |  Arguments for :attr:`~hypothesis.settings.suppress_health_check`.\n",
      "     |  \n",
      "     |  Each member of this enum is a type of health check to suppress.\n",
      "     |  \n",
      "     |  Method resolution order:\n",
      "     |      HealthCheck\n",
      "     |      enum.Enum\n",
      "     |      builtins.object\n",
      "     |  \n",
      "     |  Data and other attributes defined here:\n",
      "     |  \n",
      "     |  data_too_large = HealthCheck.data_too_large\n",
      "     |  \n",
      "     |  exception_in_generation = HealthCheck.exception_in_generation\n",
      "     |  \n",
      "     |  filter_too_much = HealthCheck.filter_too_much\n",
      "     |  \n",
      "     |  hung_test = HealthCheck.hung_test\n",
      "     |  \n",
      "     |  large_base_example = HealthCheck.large_base_example\n",
      "     |  \n",
      "     |  not_a_test_method = HealthCheck.not_a_test_method\n",
      "     |  \n",
      "     |  random_module = HealthCheck.random_module\n",
      "     |  \n",
      "     |  return_value = HealthCheck.return_value\n",
      "     |  \n",
      "     |  too_slow = HealthCheck.too_slow\n",
      "     |  \n",
      "     |  ----------------------------------------------------------------------\n",
      "     |  Data descriptors inherited from enum.Enum:\n",
      "     |  \n",
      "     |  name\n",
      "     |      The name of the Enum member.\n",
      "     |  \n",
      "     |  value\n",
      "     |      The value of the Enum member.\n",
      "     |  \n",
      "     |  ----------------------------------------------------------------------\n",
      "     |  Data descriptors inherited from enum.EnumMeta:\n",
      "     |  \n",
      "     |  __members__\n",
      "     |      Returns a mapping of member name->value.\n",
      "     |      \n",
      "     |      This mapping lists all enum members, including aliases. Note that this\n",
      "     |      is a read-only view of the internal mapping.\n",
      "    \n",
      "    class Phase(enum.IntEnum)\n",
      "     |  An enumeration.\n",
      "     |  \n",
      "     |  Method resolution order:\n",
      "     |      Phase\n",
      "     |      enum.IntEnum\n",
      "     |      builtins.int\n",
      "     |      enum.Enum\n",
      "     |      builtins.object\n",
      "     |  \n",
      "     |  Data and other attributes defined here:\n",
      "     |  \n",
      "     |  explicit = <Phase.explicit: 0>\n",
      "     |  \n",
      "     |  generate = <Phase.generate: 2>\n",
      "     |  \n",
      "     |  reuse = <Phase.reuse: 1>\n",
      "     |  \n",
      "     |  shrink = <Phase.shrink: 3>\n",
      "     |  \n",
      "     |  ----------------------------------------------------------------------\n",
      "     |  Data descriptors inherited from enum.Enum:\n",
      "     |  \n",
      "     |  name\n",
      "     |      The name of the Enum member.\n",
      "     |  \n",
      "     |  value\n",
      "     |      The value of the Enum member.\n",
      "     |  \n",
      "     |  ----------------------------------------------------------------------\n",
      "     |  Data descriptors inherited from enum.EnumMeta:\n",
      "     |  \n",
      "     |  __members__\n",
      "     |      Returns a mapping of member name->value.\n",
      "     |      \n",
      "     |      This mapping lists all enum members, including aliases. Note that this\n",
      "     |      is a read-only view of the internal mapping.\n",
      "    \n",
      "    class PrintSettings(enum.Enum)\n",
      "     |  Flags to determine whether or not to print a detailed example blob to\n",
      "     |  use with :func:`~hypothesis.reproduce_failure` for failing test cases.\n",
      "     |  \n",
      "     |  Method resolution order:\n",
      "     |      PrintSettings\n",
      "     |      enum.Enum\n",
      "     |      builtins.object\n",
      "     |  \n",
      "     |  Data and other attributes defined here:\n",
      "     |  \n",
      "     |  ALWAYS = PrintSettings.ALWAYS\n",
      "     |  \n",
      "     |  INFER = PrintSettings.INFER\n",
      "     |  \n",
      "     |  NEVER = PrintSettings.NEVER\n",
      "     |  \n",
      "     |  ----------------------------------------------------------------------\n",
      "     |  Data descriptors inherited from enum.Enum:\n",
      "     |  \n",
      "     |  name\n",
      "     |      The name of the Enum member.\n",
      "     |  \n",
      "     |  value\n",
      "     |      The value of the Enum member.\n",
      "     |  \n",
      "     |  ----------------------------------------------------------------------\n",
      "     |  Data descriptors inherited from enum.EnumMeta:\n",
      "     |  \n",
      "     |  __members__\n",
      "     |      Returns a mapping of member name->value.\n",
      "     |      \n",
      "     |      This mapping lists all enum members, including aliases. Note that this\n",
      "     |      is a read-only view of the internal mapping.\n",
      "    \n",
      "    class Verbosity(enum.IntEnum)\n",
      "     |  An enumeration.\n",
      "     |  \n",
      "     |  Method resolution order:\n",
      "     |      Verbosity\n",
      "     |      enum.IntEnum\n",
      "     |      builtins.int\n",
      "     |      enum.Enum\n",
      "     |      builtins.object\n",
      "     |  \n",
      "     |  Data and other attributes defined here:\n",
      "     |  \n",
      "     |  debug = Verbosity.debug\n",
      "     |  \n",
      "     |  normal = Verbosity.normal\n",
      "     |  \n",
      "     |  quiet = Verbosity.quiet\n",
      "     |  \n",
      "     |  verbose = Verbosity.verbose\n",
      "     |  \n",
      "     |  ----------------------------------------------------------------------\n",
      "     |  Data descriptors inherited from enum.Enum:\n",
      "     |  \n",
      "     |  name\n",
      "     |      The name of the Enum member.\n",
      "     |  \n",
      "     |  value\n",
      "     |      The value of the Enum member.\n",
      "     |  \n",
      "     |  ----------------------------------------------------------------------\n",
      "     |  Data descriptors inherited from enum.EnumMeta:\n",
      "     |  \n",
      "     |  __members__\n",
      "     |      Returns a mapping of member name->value.\n",
      "     |      \n",
      "     |      This mapping lists all enum members, including aliases. Note that this\n",
      "     |      is a read-only view of the internal mapping.\n",
      "    \n",
      "    class settings(settings)\n",
      "     |  A settings object controls a variety of parameters that are used in\n",
      "     |  falsification. These may control both the falsification strategy and the\n",
      "     |  details of the data that is generated.\n",
      "     |  \n",
      "     |  Default values are picked up from the settings.default object and\n",
      "     |  changes made there will be picked up in newly created settings.\n",
      "     |  \n",
      "     |  Method resolution order:\n",
      "     |      settings\n",
      "     |      settings\n",
      "     |      builtins.object\n",
      "     |  \n",
      "     |  Methods defined here:\n",
      "     |  \n",
      "     |  __call__(self, test)\n",
      "     |      Make the settings object (self) an attribute of the test.\n",
      "     |      \n",
      "     |      The settings are later discovered by looking them up on the test\n",
      "     |      itself.\n",
      "     |      \n",
      "     |      Also, we want to issue a deprecation warning for settings used alone\n",
      "     |      (without @given) so, note the deprecation in the new test, but also\n",
      "     |      attach the version without the warning as an attribute, so that @given\n",
      "     |      can unwrap it (since if @given is used, that means we don't want the\n",
      "     |      deprecation warning).\n",
      "     |      \n",
      "     |      When it's time to turn the warning into an error, we'll raise an\n",
      "     |      exception instead of calling note_deprecation (and can delete\n",
      "     |      \"test(*args, **kwargs)\").\n",
      "     |  \n",
      "     |  __enter__(self)\n",
      "     |  \n",
      "     |  __exit__(self, *args, **kwargs)\n",
      "     |  \n",
      "     |  __getattr__(self, name)\n",
      "     |  \n",
      "     |  __init__(self, parent=None, **kwargs)\n",
      "     |      Initialize self.  See help(type(self)) for accurate signature.\n",
      "     |  \n",
      "     |  __repr__(self)\n",
      "     |      Return repr(self).\n",
      "     |  \n",
      "     |  __setattr__(self, name, value)\n",
      "     |      Implement setattr(self, name, value).\n",
      "     |  \n",
      "     |  defaults_stack(self)\n",
      "     |  \n",
      "     |  show_changed(self)\n",
      "     |  \n",
      "     |  ----------------------------------------------------------------------\n",
      "     |  Class methods defined here:\n",
      "     |  \n",
      "     |  lock_further_definitions() from hypothesis._settings.settingsMeta\n",
      "     |  \n",
      "     |  ----------------------------------------------------------------------\n",
      "     |  Static methods defined here:\n",
      "     |  \n",
      "     |  get_profile(name)\n",
      "     |      Return the profile with the given name.\n",
      "     |  \n",
      "     |  load_profile(name)\n",
      "     |      Loads in the settings defined in the profile provided.\n",
      "     |      \n",
      "     |      If the profile does not exist, InvalidArgument will be raised.\n",
      "     |      Any setting not defined in the profile will be the library\n",
      "     |      defined default for that setting.\n",
      "     |  \n",
      "     |  register_profile(name, parent=None, **kwargs)\n",
      "     |      Registers a collection of values to be used as a settings profile.\n",
      "     |      \n",
      "     |      Settings profiles can be loaded by name - for example, you might\n",
      "     |      create a 'fast' profile which runs fewer examples, keep the 'default'\n",
      "     |      profile, and create a 'ci' profile that increases the number of\n",
      "     |      examples and uses a different database to store failures.\n",
      "     |      \n",
      "     |      The arguments to this method are exactly as for\n",
      "     |      :class:`~hypothesis.settings`: optional ``parent`` settings, and\n",
      "     |      keyword arguments for each setting that will be set differently to\n",
      "     |      parent (or settings.default, if parent is None).\n",
      "     |  \n",
      "     |  ----------------------------------------------------------------------\n",
      "     |  Data descriptors defined here:\n",
      "     |  \n",
      "     |  buffer_size\n",
      "     |      The size of the underlying data used to generate examples. If you need to\n",
      "     |      generate really large examples you may want to increase this, but it will make\n",
      "     |      your tests slower.\n",
      "     |      \n",
      "     |      default value: 8192\n",
      "     |  \n",
      "     |  database\n",
      "     |      An instance of hypothesis.database.ExampleDatabase that will be\n",
      "     |      used to save examples to and load previous examples from. May be None\n",
      "     |      in which case no storage will be used, `:memory:` for an in-memory\n",
      "     |      database, or any path for a directory-based example database.\n",
      "     |      \n",
      "     |      default value: (dynamically calculated)\n",
      "     |  \n",
      "     |  database_file\n",
      "     |      The file or directory location to save and load previously tried examples;\n",
      "     |      `:memory:` for an in-memory cache or None to disable caching entirely.\n",
      "     |      \n",
      "     |      default value: (dynamically calculated)\n",
      "     |      \n",
      "     |      The `database_file` setting is deprecated in favor of the `database`\n",
      "     |      setting, and will be removed in a future version.  It only exists at\n",
      "     |      all for complicated historical reasons and you should just use\n",
      "     |      `database` instead.\n",
      "     |  \n",
      "     |  deadline\n",
      "     |      If set, a time in milliseconds (which may be a float to express\n",
      "     |      smaller units of time) that each individual example (i.e. each time your test\n",
      "     |      function is called, not the whole decorated test) within a test is not\n",
      "     |      allowed to exceed. Tests which take longer than that may be converted into\n",
      "     |      errors (but will not necessarily be if close to the deadline, to allow some\n",
      "     |      variability in test run time).\n",
      "     |      \n",
      "     |      Set this to None to disable this behaviour entirely.\n",
      "     |      \n",
      "     |      In future this will default to 200. For now, a\n",
      "     |      HypothesisDeprecationWarning will be emitted if you exceed that default\n",
      "     |      deadline and have not explicitly set a deadline yourself.\n",
      "     |      \n",
      "     |      default value: not_set\n",
      "     |  \n",
      "     |  derandomize\n",
      "     |      If this is True then hypothesis will run in deterministic mode\n",
      "     |      where each falsification uses a random number generator that is seeded\n",
      "     |      based on the hypothesis to falsify, which will be consistent across\n",
      "     |      multiple runs. This has the advantage that it will eliminate any\n",
      "     |      randomness from your tests, which may be preferable for some situations.\n",
      "     |      It does have the disadvantage of making your tests less likely to\n",
      "     |      find novel breakages.\n",
      "     |      \n",
      "     |      default value: False\n",
      "     |  \n",
      "     |  max_examples\n",
      "     |      Once this many satisfying examples have been considered without finding any\n",
      "     |      counter-example, falsification will terminate.\n",
      "     |      \n",
      "     |      default value: 100\n",
      "     |  \n",
      "     |  max_iterations\n",
      "     |      This doesn't actually do anything, but remains for compatibility reasons.\n",
      "     |      \n",
      "     |      default value: not_set\n",
      "     |      \n",
      "     |      The max_iterations setting has been disabled, as internal heuristics are more\n",
      "     |      useful for this purpose than a user setting.  It no longer has any effect.\n",
      "     |  \n",
      "     |  max_shrinks\n",
      "     |      Passing ``max_shrinks=0`` disables the shrinking phase (see the ``phases``\n",
      "     |      setting), but any other value has no effect and uses a general heuristic.\n",
      "     |      \n",
      "     |      default value: not_set\n",
      "     |      \n",
      "     |      The max_shrinks setting has been disabled, as internal heuristics are more\n",
      "     |      useful for this purpose than a user setting.\n",
      "     |  \n",
      "     |  min_satisfying_examples\n",
      "     |      This doesn't actually do anything, but remains for compatibility reasons.\n",
      "     |      \n",
      "     |      default value: not_set\n",
      "     |      \n",
      "     |      The min_satisfying_examples setting has been deprecated and disabled, due to\n",
      "     |      overlap with the filter_too_much healthcheck and poor interaction with the\n",
      "     |      max_examples setting.\n",
      "     |  \n",
      "     |  perform_health_check\n",
      "     |      If set to True, Hypothesis will run a preliminary health check before\n",
      "     |      attempting to actually execute your test.\n",
      "     |      \n",
      "     |      default value: not_set\n",
      "     |      \n",
      "     |      This setting is deprecated, as `perform_health_check=False` duplicates the\n",
      "     |      effect of `suppress_health_check=HealthCheck.all()`.  Use that instead!\n",
      "     |  \n",
      "     |  phases\n",
      "     |      Control which phases should be run. See :ref:`the full documentation for more details <phases>`\n",
      "     |      \n",
      "     |      default value: (<Phase.explicit: 0>, <Phase.reuse: 1>, <Phase.generate: 2>, <Phase.shrink: 3>)\n",
      "     |  \n",
      "     |  print_blob\n",
      "     |      Determines whether to print blobs after tests that can be used to reproduce\n",
      "     |      failures.\n",
      "     |      \n",
      "     |      See :ref:`the documentation on @reproduce_failure <reproduce_failure>` for\n",
      "     |      more details of this behaviour.\n",
      "     |      \n",
      "     |      default value: PrintSettings.INFER\n",
      "     |  \n",
      "     |  stateful_step_count\n",
      "     |      Number of steps to run a stateful program for before giving up on it breaking.\n",
      "     |      \n",
      "     |      default value: 50\n",
      "     |  \n",
      "     |  strict\n",
      "     |      Strict mode has been deprecated in favor of Python's standard warnings\n",
      "     |      controls.  Ironically, enabling it is therefore an error - it only exists so\n",
      "     |      that users get the right *type* of error!\n",
      "     |      \n",
      "     |      default value: False\n",
      "     |      \n",
      "     |      Strict mode is deprecated and will go away in a future version of Hypothesis.\n",
      "     |      To get the same behaviour, use\n",
      "     |      warnings.simplefilter('error', HypothesisDeprecationWarning).\n",
      "     |  \n",
      "     |  suppress_health_check\n",
      "     |      A list of health checks to disable.\n",
      "     |      \n",
      "     |      default value: ()\n",
      "     |  \n",
      "     |  timeout\n",
      "     |      Once this many seconds have passed, falsify will terminate even\n",
      "     |      if it has not found many examples. This is a soft rather than a hard\n",
      "     |      limit - Hypothesis won't e.g. interrupt execution of the called\n",
      "     |      function to stop it. If this value is <= 0 then no timeout will be\n",
      "     |      applied.\n",
      "     |      \n",
      "     |      default value: 60\n",
      "     |      \n",
      "     |      The timeout setting is deprecated and will be removed in a future version of\n",
      "     |      Hypothesis. To get the future behaviour set ``timeout=hypothesis.unlimited``\n",
      "     |      instead (which will remain valid for a further deprecation period after this\n",
      "     |      setting has gone away).\n",
      "     |  \n",
      "     |  use_coverage\n",
      "     |      A flag to enable a feature that no longer exists. This setting is present\n",
      "     |      only for backwards compatibility purposes.\n",
      "     |      \n",
      "     |      default value: not_set\n",
      "     |      \n",
      "     |      use_coverage no longer does anything and can be removed from your settings.\n",
      "     |  \n",
      "     |  verbosity\n",
      "     |      Control the verbosity level of Hypothesis messages\n",
      "     |      \n",
      "     |      default value: Verbosity.normal\n",
      "     |  \n",
      "     |  ----------------------------------------------------------------------\n",
      "     |  Data descriptors inherited from settings:\n",
      "     |  \n",
      "     |  __dict__\n",
      "     |      dictionary for instance variables (if defined)\n",
      "     |  \n",
      "     |  __weakref__\n",
      "     |      list of weak references to the object (if defined)\n",
      "\n",
      "FUNCTIONS\n",
      "    assume(condition)\n",
      "        Calling ``assume`` is like an :ref:`assert <python:assert>` that marks\n",
      "        the example as bad, rather than failing the test.\n",
      "        \n",
      "        This allows you to specify properties that you *assume* will be\n",
      "        true, and let Hypothesis try to avoid similar examples in future.\n",
      "    \n",
      "    event(value)\n",
      "        Record an event that occurred this test. Statistics on number of test\n",
      "        runs with each event will be reported at the end if you run Hypothesis in\n",
      "        statistics reporting mode.\n",
      "        \n",
      "        Events should be strings or convertible to them.\n",
      "    \n",
      "    example(*args, **kwargs)\n",
      "        A decorator which ensures a specific example is always tested.\n",
      "    \n",
      "    find(specifier, condition, settings=None, random=None, database_key=None)\n",
      "        Returns the minimal example from the given strategy ``specifier`` that\n",
      "        matches the predicate function ``condition``.\n",
      "    \n",
      "    given(*given_arguments, **given_kwargs)\n",
      "        A decorator for turning a test function that accepts arguments into a\n",
      "        randomized test.\n",
      "        \n",
      "        This is the main entry point to Hypothesis.\n",
      "    \n",
      "    note(value)\n",
      "        Report this value in the final execution.\n",
      "    \n",
      "    reject()\n",
      "    \n",
      "    reproduce_failure(version, blob)\n",
      "        Run the example that corresponds to this data blob in order to reproduce\n",
      "        a failure.\n",
      "        \n",
      "        A test with this decorator *always* runs only one example and always fails.\n",
      "        If the provided example does not cause a failure, or is in some way invalid\n",
      "        for this test, then this will fail with a DidNotReproduce error.\n",
      "        \n",
      "        This decorator is not intended to be a permanent addition to your test\n",
      "        suite. It's simply some code you can add to ease reproduction of a problem\n",
      "        in the event that you don't have access to the test database. Because of\n",
      "        this, *no* compatibility guarantees are made between different versions of\n",
      "        Hypothesis - its API may change arbitrarily from version to version.\n",
      "    \n",
      "    seed(seed)\n",
      "        seed: Start the test execution from a specific seed.\n",
      "        \n",
      "        May be any hashable object. No exact meaning for seed is provided\n",
      "        other than that for a fixed seed value Hypothesis will try the same\n",
      "        actions (insofar as it can given external sources of non-\n",
      "        determinism. e.g. timing and hash randomization).\n",
      "        \n",
      "        Overrides the derandomize setting, which is designed to enable\n",
      "        deterministic builds rather than reproducing observed failures.\n",
      "\n",
      "DATA\n",
      "    __all__ = ['settings', 'Verbosity', 'HealthCheck', 'Phase', 'PrintSett...\n",
      "    __version_info__ = (3, 82, 1)\n",
      "    infer = infer\n",
      "    unlimited = unlimited\n",
      "\n",
      "VERSION\n",
      "    3.82.1\n",
      "\n",
      "FILE\n",
      "    /home/justin/anaconda3/lib/python3.6/site-packages/hypothesis/__init__.py\n",
      "\n",
      "\n"
     ]
    }
   ],
   "source": [
    "help(hypothesis)"
   ]
  },
  {
   "cell_type": "code",
   "execution_count": 3,
   "metadata": {
    "ExecuteTime": {
     "end_time": "2018-11-09T06:46:07.589717Z",
     "start_time": "2018-11-09T06:46:07.566259Z"
    }
   },
   "outputs": [
    {
     "data": {
      "text/plain": [
       "'3.82.1'"
      ]
     },
     "execution_count": 3,
     "metadata": {},
     "output_type": "execute_result"
    }
   ],
   "source": [
    "hypothesis.__version__"
   ]
  },
  {
   "cell_type": "code",
   "execution_count": 4,
   "metadata": {
    "ExecuteTime": {
     "end_time": "2018-11-09T06:46:09.006407Z",
     "start_time": "2018-11-09T06:46:08.981370Z"
    }
   },
   "outputs": [
    {
     "data": {
      "text/plain": [
       "'/home/justin/anaconda3/lib/python3.6/site-packages/hypothesis/__init__.py'"
      ]
     },
     "execution_count": 4,
     "metadata": {},
     "output_type": "execute_result"
    }
   ],
   "source": [
    "hypothesis.__file__"
   ]
  },
  {
   "cell_type": "code",
   "execution_count": 5,
   "metadata": {
    "ExecuteTime": {
     "end_time": "2018-11-09T06:46:13.181456Z",
     "start_time": "2018-11-09T06:46:13.054238Z"
    }
   },
   "outputs": [
    {
     "ename": "AttributeError",
     "evalue": "module 'hypothesis.extra' has no attribute 'pandas'",
     "output_type": "error",
     "traceback": [
      "\u001b[0;31m---------------------------------------------------------------------------\u001b[0m",
      "\u001b[0;31mAttributeError\u001b[0m                            Traceback (most recent call last)",
      "\u001b[0;32m<ipython-input-5-a470a71f6c50>\u001b[0m in \u001b[0;36m<module>\u001b[0;34m()\u001b[0m\n\u001b[0;32m----> 1\u001b[0;31m \u001b[0mhelp\u001b[0m\u001b[0;34m(\u001b[0m\u001b[0mhypothesis\u001b[0m\u001b[0;34m.\u001b[0m\u001b[0mextra\u001b[0m\u001b[0;34m.\u001b[0m\u001b[0mpandas\u001b[0m\u001b[0;34m)\u001b[0m\u001b[0;34m\u001b[0m\u001b[0m\n\u001b[0m",
      "\u001b[0;31mAttributeError\u001b[0m: module 'hypothesis.extra' has no attribute 'pandas'"
     ]
    }
   ],
   "source": [
    "help(hypothesis.extra.pandas)"
   ]
  },
  {
   "cell_type": "code",
   "execution_count": 7,
   "metadata": {
    "ExecuteTime": {
     "end_time": "2018-11-09T00:59:12.121445Z",
     "start_time": "2018-11-09T00:59:12.096064Z"
    }
   },
   "outputs": [
    {
     "data": {
      "text/plain": [
       "'/home/justin/anaconda3/lib/python3.6/site-packages/hypothesis/__init__.py'"
      ]
     },
     "execution_count": 7,
     "metadata": {},
     "output_type": "execute_result"
    }
   ],
   "source": [
    "hypothesis.__file__"
   ]
  },
  {
   "cell_type": "markdown",
   "metadata": {},
   "source": [
    "# example hypothesis"
   ]
  },
  {
   "cell_type": "code",
   "execution_count": 24,
   "metadata": {
    "ExecuteTime": {
     "end_time": "2018-11-05T20:42:27.372894Z",
     "start_time": "2018-11-05T20:42:27.342617Z"
    }
   },
   "outputs": [],
   "source": [
    "def encode(input_string):\n",
    "#     if not input_string:\n",
    "#         return []\n",
    "    count = 1\n",
    "    prev = ''\n",
    "    lst = []\n",
    "    for character in input_string:\n",
    "        if character != prev:\n",
    "            if prev:\n",
    "                entry = (prev, count)\n",
    "                lst.append(entry)\n",
    "            count = 1\n",
    "            prev = character\n",
    "        else:\n",
    "            count += 1\n",
    "    else:\n",
    "        entry = (character, count)\n",
    "        lst.append(entry)\n",
    "    return lst\n",
    "\n",
    "\n",
    "def decode(lst):\n",
    "    q = ''\n",
    "    for character, count in lst:\n",
    "        q += character * count\n",
    "    return q"
   ]
  },
  {
   "cell_type": "code",
   "execution_count": 25,
   "metadata": {
    "ExecuteTime": {
     "end_time": "2018-11-05T20:42:28.045962Z",
     "start_time": "2018-11-05T20:42:28.027188Z"
    }
   },
   "outputs": [],
   "source": [
    "from hypothesis import given, example\n",
    "from hypothesis.strategies import text\n",
    "\n",
    "@given(text())\n",
    "@example('')\n",
    "def test_decode_inverts_encode(s):\n",
    "    assert decode(encode(s)) == s"
   ]
  },
  {
   "cell_type": "code",
   "execution_count": 26,
   "metadata": {
    "ExecuteTime": {
     "end_time": "2018-11-05T20:42:29.065080Z",
     "start_time": "2018-11-05T20:42:29.034114Z"
    }
   },
   "outputs": [
    {
     "name": "stdout",
     "output_type": "stream",
     "text": [
      "Falsifying example: test_decode_inverts_encode(s='')\n"
     ]
    },
    {
     "ename": "UnboundLocalError",
     "evalue": "local variable 'character' referenced before assignment",
     "output_type": "error",
     "traceback": [
      "\u001b[0;31m---------------------------------------------------------------------------\u001b[0m",
      "\u001b[0;31mUnboundLocalError\u001b[0m                         Traceback (most recent call last)",
      "\u001b[0;32m<ipython-input-26-4c13e1e98da1>\u001b[0m in \u001b[0;36m<module>\u001b[0;34m()\u001b[0m\n\u001b[1;32m      1\u001b[0m \u001b[0;32mif\u001b[0m \u001b[0m__name__\u001b[0m \u001b[0;34m==\u001b[0m \u001b[0;34m'__main__'\u001b[0m\u001b[0;34m:\u001b[0m\u001b[0;34m\u001b[0m\u001b[0m\n\u001b[0;32m----> 2\u001b[0;31m     \u001b[0mtest_decode_inverts_encode\u001b[0m\u001b[0;34m(\u001b[0m\u001b[0;34m)\u001b[0m\u001b[0;34m\u001b[0m\u001b[0m\n\u001b[0m",
      "\u001b[0;32m<ipython-input-25-a74f5ac7ef1f>\u001b[0m in \u001b[0;36mtest_decode_inverts_encode\u001b[0;34m()\u001b[0m\n\u001b[1;32m      3\u001b[0m \u001b[0;34m\u001b[0m\u001b[0m\n\u001b[1;32m      4\u001b[0m \u001b[0;34m@\u001b[0m\u001b[0mgiven\u001b[0m\u001b[0;34m(\u001b[0m\u001b[0mtext\u001b[0m\u001b[0;34m(\u001b[0m\u001b[0;34m)\u001b[0m\u001b[0;34m)\u001b[0m\u001b[0;34m\u001b[0m\u001b[0m\n\u001b[0;32m----> 5\u001b[0;31m \u001b[0;34m@\u001b[0m\u001b[0mexample\u001b[0m\u001b[0;34m(\u001b[0m\u001b[0;34m''\u001b[0m\u001b[0;34m)\u001b[0m\u001b[0;34m\u001b[0m\u001b[0m\n\u001b[0m\u001b[1;32m      6\u001b[0m \u001b[0;32mdef\u001b[0m \u001b[0mtest_decode_inverts_encode\u001b[0m\u001b[0;34m(\u001b[0m\u001b[0ms\u001b[0m\u001b[0;34m)\u001b[0m\u001b[0;34m:\u001b[0m\u001b[0;34m\u001b[0m\u001b[0m\n\u001b[1;32m      7\u001b[0m     \u001b[0;32massert\u001b[0m \u001b[0mdecode\u001b[0m\u001b[0;34m(\u001b[0m\u001b[0mencode\u001b[0m\u001b[0;34m(\u001b[0m\u001b[0ms\u001b[0m\u001b[0;34m)\u001b[0m\u001b[0;34m)\u001b[0m \u001b[0;34m==\u001b[0m \u001b[0ms\u001b[0m\u001b[0;34m\u001b[0m\u001b[0m\n",
      "\u001b[0;32m~/anaconda3/lib/python3.6/site-packages/hypothesis/core.py\u001b[0m in \u001b[0;36mwrapped_test\u001b[0;34m(*arguments, **kwargs)\u001b[0m\n\u001b[1;32m    901\u001b[0m \u001b[0;34m\u001b[0m\u001b[0m\n\u001b[1;32m    902\u001b[0m             execute_explicit_examples(\n\u001b[0;32m--> 903\u001b[0;31m                 \u001b[0mtest_runner\u001b[0m\u001b[0;34m,\u001b[0m \u001b[0mtest\u001b[0m\u001b[0;34m,\u001b[0m \u001b[0mwrapped_test\u001b[0m\u001b[0;34m,\u001b[0m \u001b[0msettings\u001b[0m\u001b[0;34m,\u001b[0m \u001b[0marguments\u001b[0m\u001b[0;34m,\u001b[0m \u001b[0mkwargs\u001b[0m\u001b[0;34m\u001b[0m\u001b[0m\n\u001b[0m\u001b[1;32m    904\u001b[0m             )\n\u001b[1;32m    905\u001b[0m \u001b[0;34m\u001b[0m\u001b[0m\n",
      "\u001b[0;32m~/anaconda3/lib/python3.6/site-packages/hypothesis/core.py\u001b[0m in \u001b[0;36mexecute_explicit_examples\u001b[0;34m(test_runner, test, wrapped_test, settings, arguments, kwargs)\u001b[0m\n\u001b[1;32m    291\u001b[0m                     \u001b[0mverbose_report\u001b[0m\u001b[0;34m(\u001b[0m\u001b[0;34m'Trying example: '\u001b[0m \u001b[0;34m+\u001b[0m \u001b[0mexample_string\u001b[0m\u001b[0;34m)\u001b[0m\u001b[0;34m\u001b[0m\u001b[0m\n\u001b[1;32m    292\u001b[0m                     test_runner(\n\u001b[0;32m--> 293\u001b[0;31m                         \u001b[0;32mNone\u001b[0m\u001b[0;34m,\u001b[0m \u001b[0;32mlambda\u001b[0m \u001b[0mdata\u001b[0m\u001b[0;34m:\u001b[0m \u001b[0mtest\u001b[0m\u001b[0;34m(\u001b[0m\u001b[0;34m*\u001b[0m\u001b[0marguments\u001b[0m\u001b[0;34m,\u001b[0m \u001b[0;34m**\u001b[0m\u001b[0mexample_kwargs\u001b[0m\u001b[0;34m)\u001b[0m\u001b[0;34m\u001b[0m\u001b[0m\n\u001b[0m\u001b[1;32m    294\u001b[0m                     )\n\u001b[1;32m    295\u001b[0m             \u001b[0;32mexcept\u001b[0m \u001b[0mBaseException\u001b[0m\u001b[0;34m:\u001b[0m\u001b[0;34m\u001b[0m\u001b[0m\n",
      "\u001b[0;32m~/anaconda3/lib/python3.6/site-packages/hypothesis/executors.py\u001b[0m in \u001b[0;36mdefault_new_style_executor\u001b[0;34m(data, function)\u001b[0m\n\u001b[1;32m     56\u001b[0m \u001b[0;34m\u001b[0m\u001b[0m\n\u001b[1;32m     57\u001b[0m \u001b[0;32mdef\u001b[0m \u001b[0mdefault_new_style_executor\u001b[0m\u001b[0;34m(\u001b[0m\u001b[0mdata\u001b[0m\u001b[0;34m,\u001b[0m \u001b[0mfunction\u001b[0m\u001b[0;34m)\u001b[0m\u001b[0;34m:\u001b[0m\u001b[0;34m\u001b[0m\u001b[0m\n\u001b[0;32m---> 58\u001b[0;31m     \u001b[0;32mreturn\u001b[0m \u001b[0mfunction\u001b[0m\u001b[0;34m(\u001b[0m\u001b[0mdata\u001b[0m\u001b[0;34m)\u001b[0m\u001b[0;34m\u001b[0m\u001b[0m\n\u001b[0m\u001b[1;32m     59\u001b[0m \u001b[0;34m\u001b[0m\u001b[0m\n\u001b[1;32m     60\u001b[0m \u001b[0;34m\u001b[0m\u001b[0m\n",
      "\u001b[0;32m~/anaconda3/lib/python3.6/site-packages/hypothesis/core.py\u001b[0m in \u001b[0;36m<lambda>\u001b[0;34m(data)\u001b[0m\n\u001b[1;32m    291\u001b[0m                     \u001b[0mverbose_report\u001b[0m\u001b[0;34m(\u001b[0m\u001b[0;34m'Trying example: '\u001b[0m \u001b[0;34m+\u001b[0m \u001b[0mexample_string\u001b[0m\u001b[0;34m)\u001b[0m\u001b[0;34m\u001b[0m\u001b[0m\n\u001b[1;32m    292\u001b[0m                     test_runner(\n\u001b[0;32m--> 293\u001b[0;31m                         \u001b[0;32mNone\u001b[0m\u001b[0;34m,\u001b[0m \u001b[0;32mlambda\u001b[0m \u001b[0mdata\u001b[0m\u001b[0;34m:\u001b[0m \u001b[0mtest\u001b[0m\u001b[0;34m(\u001b[0m\u001b[0;34m*\u001b[0m\u001b[0marguments\u001b[0m\u001b[0;34m,\u001b[0m \u001b[0;34m**\u001b[0m\u001b[0mexample_kwargs\u001b[0m\u001b[0;34m)\u001b[0m\u001b[0;34m\u001b[0m\u001b[0m\n\u001b[0m\u001b[1;32m    294\u001b[0m                     )\n\u001b[1;32m    295\u001b[0m             \u001b[0;32mexcept\u001b[0m \u001b[0mBaseException\u001b[0m\u001b[0;34m:\u001b[0m\u001b[0;34m\u001b[0m\u001b[0m\n",
      "\u001b[0;32m<ipython-input-25-a74f5ac7ef1f>\u001b[0m in \u001b[0;36mtest_decode_inverts_encode\u001b[0;34m(s)\u001b[0m\n\u001b[1;32m      5\u001b[0m \u001b[0;34m@\u001b[0m\u001b[0mexample\u001b[0m\u001b[0;34m(\u001b[0m\u001b[0;34m''\u001b[0m\u001b[0;34m)\u001b[0m\u001b[0;34m\u001b[0m\u001b[0m\n\u001b[1;32m      6\u001b[0m \u001b[0;32mdef\u001b[0m \u001b[0mtest_decode_inverts_encode\u001b[0m\u001b[0;34m(\u001b[0m\u001b[0ms\u001b[0m\u001b[0;34m)\u001b[0m\u001b[0;34m:\u001b[0m\u001b[0;34m\u001b[0m\u001b[0m\n\u001b[0;32m----> 7\u001b[0;31m     \u001b[0;32massert\u001b[0m \u001b[0mdecode\u001b[0m\u001b[0;34m(\u001b[0m\u001b[0mencode\u001b[0m\u001b[0;34m(\u001b[0m\u001b[0ms\u001b[0m\u001b[0;34m)\u001b[0m\u001b[0;34m)\u001b[0m \u001b[0;34m==\u001b[0m \u001b[0ms\u001b[0m\u001b[0;34m\u001b[0m\u001b[0m\n\u001b[0m",
      "\u001b[0;32m<ipython-input-24-292c23894c01>\u001b[0m in \u001b[0;36mencode\u001b[0;34m(input_string)\u001b[0m\n\u001b[1;32m     15\u001b[0m             \u001b[0mcount\u001b[0m \u001b[0;34m+=\u001b[0m \u001b[0;36m1\u001b[0m\u001b[0;34m\u001b[0m\u001b[0m\n\u001b[1;32m     16\u001b[0m     \u001b[0;32melse\u001b[0m\u001b[0;34m:\u001b[0m\u001b[0;34m\u001b[0m\u001b[0m\n\u001b[0;32m---> 17\u001b[0;31m         \u001b[0mentry\u001b[0m \u001b[0;34m=\u001b[0m \u001b[0;34m(\u001b[0m\u001b[0mcharacter\u001b[0m\u001b[0;34m,\u001b[0m \u001b[0mcount\u001b[0m\u001b[0;34m)\u001b[0m\u001b[0;34m\u001b[0m\u001b[0m\n\u001b[0m\u001b[1;32m     18\u001b[0m         \u001b[0mlst\u001b[0m\u001b[0;34m.\u001b[0m\u001b[0mappend\u001b[0m\u001b[0;34m(\u001b[0m\u001b[0mentry\u001b[0m\u001b[0;34m)\u001b[0m\u001b[0;34m\u001b[0m\u001b[0m\n\u001b[1;32m     19\u001b[0m     \u001b[0;32mreturn\u001b[0m \u001b[0mlst\u001b[0m\u001b[0;34m\u001b[0m\u001b[0m\n",
      "\u001b[0;31mUnboundLocalError\u001b[0m: local variable 'character' referenced before assignment"
     ]
    }
   ],
   "source": [
    "if __name__ == '__main__':\n",
    "    test_decode_inverts_encode()"
   ]
  },
  {
   "cell_type": "code",
   "execution_count": null,
   "metadata": {},
   "outputs": [],
   "source": []
  },
  {
   "cell_type": "code",
   "execution_count": 11,
   "metadata": {
    "ExecuteTime": {
     "end_time": "2018-11-05T20:30:24.417238Z",
     "start_time": "2018-11-05T20:30:24.401909Z"
    }
   },
   "outputs": [],
   "source": [
    "lst = encode('Hi my name is jusssstin')"
   ]
  },
  {
   "cell_type": "code",
   "execution_count": 12,
   "metadata": {
    "ExecuteTime": {
     "end_time": "2018-11-05T20:30:24.925301Z",
     "start_time": "2018-11-05T20:30:24.905490Z"
    }
   },
   "outputs": [
    {
     "data": {
      "text/plain": [
       "[('H', 1),\n",
       " ('i', 1),\n",
       " (' ', 1),\n",
       " ('m', 1),\n",
       " ('y', 1),\n",
       " (' ', 1),\n",
       " ('n', 1),\n",
       " ('a', 1),\n",
       " ('m', 1),\n",
       " ('e', 1),\n",
       " (' ', 1),\n",
       " ('i', 1),\n",
       " ('s', 1),\n",
       " (' ', 1),\n",
       " ('j', 1),\n",
       " ('u', 1),\n",
       " ('s', 4),\n",
       " ('t', 1),\n",
       " ('i', 1),\n",
       " ('n', 1)]"
      ]
     },
     "execution_count": 12,
     "metadata": {},
     "output_type": "execute_result"
    }
   ],
   "source": [
    "lst"
   ]
  },
  {
   "cell_type": "code",
   "execution_count": 13,
   "metadata": {
    "ExecuteTime": {
     "end_time": "2018-11-05T20:30:25.574843Z",
     "start_time": "2018-11-05T20:30:25.556410Z"
    }
   },
   "outputs": [
    {
     "data": {
      "text/plain": [
       "''"
      ]
     },
     "execution_count": 13,
     "metadata": {},
     "output_type": "execute_result"
    }
   ],
   "source": [
    "decode(encode(''))"
   ]
  },
  {
   "cell_type": "code",
   "execution_count": 8,
   "metadata": {
    "ExecuteTime": {
     "end_time": "2018-11-05T20:28:34.805030Z",
     "start_time": "2018-11-05T20:28:34.697725Z"
    }
   },
   "outputs": [],
   "source": []
  },
  {
   "cell_type": "code",
   "execution_count": null,
   "metadata": {},
   "outputs": [],
   "source": []
  }
 ],
 "metadata": {
  "kernelspec": {
   "display_name": "Python 3",
   "language": "python",
   "name": "python3"
  },
  "language_info": {
   "codemirror_mode": {
    "name": "ipython",
    "version": 3
   },
   "file_extension": ".py",
   "mimetype": "text/x-python",
   "name": "python",
   "nbconvert_exporter": "python",
   "pygments_lexer": "ipython3",
   "version": "3.6.3"
  }
 },
 "nbformat": 4,
 "nbformat_minor": 2
}
